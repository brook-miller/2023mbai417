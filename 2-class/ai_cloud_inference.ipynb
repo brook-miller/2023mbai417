{
  "nbformat": 4,
  "nbformat_minor": 0,
  "metadata": {
    "colab": {
      "provenance": [],
      "authorship_tag": "ABX9TyMKPMMdpgucm+v7FgzA473b",
      "include_colab_link": true
    },
    "kernelspec": {
      "name": "python3",
      "display_name": "Python 3"
    },
    "language_info": {
      "name": "python"
    }
  },
  "cells": [
    {
      "cell_type": "markdown",
      "metadata": {
        "id": "view-in-github",
        "colab_type": "text"
      },
      "source": [
        "<a href=\"https://colab.research.google.com/github/brook-miller/2023mbai417/blob/main/2-class/ai_cloud_inference.ipynb\" target=\"_parent\"><img src=\"https://colab.research.google.com/assets/colab-badge.svg\" alt=\"Open In Colab\"/></a>"
      ]
    },
    {
      "cell_type": "markdown",
      "source": [
        "In this lab, we're examining the data from a test we did to replace the search function in our clients SaaS application with a new higher performance model and inference hardware.\n",
        "\n",
        "This has resulted in better performance and revenues from our clients (we charge based on usage) but it has also increased costs.\n",
        "\n",
        "Our data consists of a file with:\n",
        "userid: the unique id of each user\n",
        "new_machine: 0,1.  0 if they stayed on the old system and 1 if they got the new higher performing / more costly model.\n",
        "cost: the costs for that user\n",
        "revenue: the amount of revenue we generated\n",
        "\n",
        "I performed a quick analysis that shows the returns were higher (5.7x) for the old model vs. the new model / machines (5x)\n",
        "\n",
        "Is this analysis accurate.  Perform your own analysis and we'll share results in 30 minutes.\n",
        "\n"
      ],
      "metadata": {
        "id": "ZptHd70UG2a-"
      }
    },
    {
      "cell_type": "code",
      "execution_count": 1,
      "metadata": {
        "id": "dwNqIBq6yVMH"
      },
      "outputs": [],
      "source": [
        "#@title standard imports - we'll use in most EDA\n",
        "import numpy as np\n",
        "import pandas as pd\n",
        "import matplotlib.pyplot as plt\n",
        "import plotly.express as px\n",
        "\n",
        "from datetime import datetime, timedelta\n",
        "from dateutil.parser import parse\n",
        "from google.colab import data_table\n",
        "data_table.enable_dataframe_formatter()"
      ]
    },
    {
      "cell_type": "code",
      "source": [
        "df = pd.read_csv('https://raw.githubusercontent.com/brook-miller/2023mbai417/main/2-class/ai_inference.csv')\n",
        "df = df.rename(columns={ df.columns[0]: \"userid\" })\n",
        "df"
      ],
      "metadata": {
        "id": "PnlKw954G5_J"
      },
      "execution_count": null,
      "outputs": []
    },
    {
      "cell_type": "code",
      "source": [
        "\n",
        "\n",
        "df[\"return\"] = (df[\"revenue\"]- df[\"cost\"]) / df[\"cost\"]\n",
        "\n",
        "df.groupby(['new_machine'])['return'].mean()"
      ],
      "metadata": {
        "id": "Lgpz4XJ31bYZ"
      },
      "execution_count": null,
      "outputs": []
    }
  ]
}