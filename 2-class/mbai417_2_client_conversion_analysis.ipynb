{
  "nbformat": 4,
  "nbformat_minor": 0,
  "metadata": {
    "colab": {
      "provenance": [],
      "authorship_tag": "ABX9TyMbdcUhgxLVCfdr1ankPY2b",
      "include_colab_link": true
    },
    "kernelspec": {
      "name": "python3",
      "display_name": "Python 3"
    },
    "language_info": {
      "name": "python"
    }
  },
  "cells": [
    {
      "cell_type": "markdown",
      "metadata": {
        "id": "view-in-github",
        "colab_type": "text"
      },
      "source": [
        "<a href=\"https://colab.research.google.com/github/brook-miller/2023mbai417/blob/main/2-class/mbai417_2_client_conversion_analysis.ipynb\" target=\"_parent\"><img src=\"https://colab.research.google.com/assets/colab-badge.svg\" alt=\"Open In Colab\"/></a>"
      ]
    },
    {
      "cell_type": "markdown",
      "source": [
        "In this lab, we'll use the pandas library to explore some data on conversions from a website based on os and platform.  Run the cells to see the code in action and prepare a 4-5 sentence analysis of the key takeaways.  A couple groups will have the opportunity to share their findings with the class.\n",
        "\n",
        "The data is a file of:\n",
        "* userid: the userid of the customer visiting our site\n",
        "* os: the os of their device\n",
        "* platform: the form factor of their device, tablet or phone\n",
        "* converted: 0 did not purchase, 1 they did convert/purchase"
      ],
      "metadata": {
        "id": "S1ABc35H--kw"
      }
    },
    {
      "cell_type": "code",
      "execution_count": 2,
      "metadata": {
        "id": "1L7Q5ZUanpji"
      },
      "outputs": [],
      "source": [
        "#@title standard imports - we'll use in most EDA\n",
        "import numpy as np\n",
        "import pandas as pd\n",
        "import matplotlib.pyplot as plt\n",
        "import plotly.express as px\n",
        "\n",
        "from datetime import datetime, timedelta\n",
        "from dateutil.parser import parse\n",
        "from google.colab import data_table\n",
        "data_table.enable_dataframe_formatter()"
      ]
    },
    {
      "cell_type": "code",
      "source": [
        "df = pd.read_csv('https://raw.githubusercontent.com/brook-miller/2023mbai417/main/2-class/os-platform-conversion.csv')\n",
        "\n",
        "df.head()"
      ],
      "metadata": {
        "id": "kJ5hrOI3p6Mq"
      },
      "execution_count": null,
      "outputs": []
    },
    {
      "cell_type": "code",
      "source": [
        "os_converts = df.groupby(['os'])[\"converted\"].sum()\n",
        "os_totals =  df.groupby(['os'])[\"converted\"].count()\n",
        "os_totals = os_totals.rename('out_of')\n",
        "\n",
        "os_df = pd.DataFrame([os_converts, os_totals]).transpose().reset_index()\n",
        "\n",
        "os_df[\"percent\"] = os_df[\"converted\"] / os_df['out_of']\n",
        "os_df"
      ],
      "metadata": {
        "id": "n_AKAYWhwhzA"
      },
      "execution_count": null,
      "outputs": []
    },
    {
      "cell_type": "code",
      "source": [
        "px.bar(os_df, x='percent', y='os')"
      ],
      "metadata": {
        "id": "tPZ1-yeU05Lc"
      },
      "execution_count": null,
      "outputs": []
    },
    {
      "cell_type": "code",
      "source": [
        "platform_converts = df.groupby(['platform'])[\"converted\"].sum()\n",
        "platform_totals =  df.groupby(['platform'])[\"converted\"].count()\n",
        "platform_totals = platform_totals.rename('out_of')\n",
        "\n",
        "platform_df = pd.DataFrame([platform_converts, platform_totals]).transpose().reset_index()\n",
        "\n",
        "platform_df[\"percent\"] = platform_df[\"converted\"] / platform_df['out_of']\n",
        "platform_df"
      ],
      "metadata": {
        "id": "gqDLc1Kjz902"
      },
      "execution_count": null,
      "outputs": []
    },
    {
      "cell_type": "code",
      "source": [
        "px.bar(platform_df, x = \"percent\", y=\"platform\")"
      ],
      "metadata": {
        "id": "iAZyQGXn1Y3t"
      },
      "execution_count": null,
      "outputs": []
    },
    {
      "cell_type": "code",
      "source": [
        "df[\"os-platform\"] = df[\"os\"] + '-' + df[\"platform\"]\n",
        "\n",
        "os_platform_converts = df.groupby(['os-platform'])[\"converted\"].sum()\n",
        "os_platform_totals =  df.groupby(['os-platform'])[\"converted\"].count()\n",
        "os_platform_totals = os_platform_totals.rename('out_of')\n",
        "\n",
        "os_platform_df = pd.DataFrame([os_platform_converts, os_platform_totals]).transpose().reset_index()\n",
        "\n",
        "os_platform_df[\"percent\"] = os_platform_df[\"converted\"] / os_platform_df['out_of']\n",
        "os_platform_df.sort_values(by=['percent'])"
      ],
      "metadata": {
        "id": "VnT6Lh_N1lLV"
      },
      "execution_count": null,
      "outputs": []
    },
    {
      "cell_type": "code",
      "source": [
        "px.bar(os_platform_df, x = \"percent\", y=\"os-platform\")"
      ],
      "metadata": {
        "id": "rYJfpIWg4wsX"
      },
      "execution_count": null,
      "outputs": []
    }
  ]
}