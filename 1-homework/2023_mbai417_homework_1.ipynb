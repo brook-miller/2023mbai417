{
  "nbformat": 4,
  "nbformat_minor": 0,
  "metadata": {
    "colab": {
      "provenance": [],
      "toc_visible": true,
      "authorship_tag": "ABX9TyP+vGmTEBbfZ9LF2hdRg705",
      "include_colab_link": true
    },
    "kernelspec": {
      "name": "python3",
      "display_name": "Python 3"
    },
    "language_info": {
      "name": "python"
    }
  },
  "cells": [
    {
      "cell_type": "markdown",
      "metadata": {
        "id": "view-in-github",
        "colab_type": "text"
      },
      "source": [
        "<a href=\"https://colab.research.google.com/github/brook-miller/2023mbai417/blob/main/1-homework/2023_mbai417_homework_1.ipynb\" target=\"_parent\"><img src=\"https://colab.research.google.com/assets/colab-badge.svg\" alt=\"Open In Colab\"/></a>"
      ]
    },
    {
      "cell_type": "markdown",
      "metadata": {
        "id": "8-8gP3sP_a_T"
      },
      "source": [
        "# Homework 1: Promoting Evening Products to Drive Incremental Revenue at Instacart\n",
        "\n",
        "  "
      ]
    },
    {
      "cell_type": "markdown",
      "source": [
        "Your team has been brought to work with the merchandising team at Instacart.  The problem: early evening hours have delivery / driver availability but the number of orders falls off in the evening hours.  \n",
        "&nbsp;   \n",
        "We need to determine which products are being sold in the evening 6PM+ (18-23 in order_hour_of_day) hours so that the team can create new promotions.  To avoid developing a list of niche products we'd like to restrict our analysis to products that are ordered at least 5000 times.    \n",
        "&nbsp;  \n",
        "All the data you need is stored in the redshift database.  Please update the code in each code cell to build to the final list of products.  \n",
        "&nbsp;  \n",
        "In the last markdown cell, please discuss your key findings and what next steps and data should be gathered in order to determine how the team should proceed to evaluate the opportunity.  \n",
        "&nbsp;  \n",
        "Please limit your analysis to 250 words.  "
      ],
      "metadata": {
        "id": "ng63IUXNVTk7"
      }
    },
    {
      "cell_type": "markdown",
      "source": [
        "# Setting up the environment"
      ],
      "metadata": {
        "id": "pgf4xRFXJLUw"
      }
    },
    {
      "cell_type": "code",
      "source": [
        "#@title installs for sqlalchemy and sqlmagic\n",
        "!pip install sqlalchemy-redshift --quiet\n",
        "!pip install redshift_connector --quiet\n",
        "!pip install ipython-sql --quiet"
      ],
      "metadata": {
        "id": "nqIJ3Za2_qfp"
      },
      "execution_count": null,
      "outputs": []
    },
    {
      "cell_type": "code",
      "execution_count": null,
      "metadata": {
        "id": "_jEoXXUi_a_V"
      },
      "outputs": [],
      "source": [
        "#@title standard imports - we'll use in most EDA\n",
        "import numpy as np\n",
        "import pandas as pd\n",
        "import matplotlib.pyplot as plt\n",
        "import plotly.express as px\n",
        "\n",
        "from datetime import datetime, timedelta\n",
        "from dateutil.parser import parse\n",
        "from google.colab import data_table\n",
        "data_table.enable_dataframe_formatter()"
      ]
    },
    {
      "cell_type": "code",
      "execution_count": null,
      "metadata": {
        "id": "mFZDaICS_a_W"
      },
      "outputs": [],
      "source": [
        "#@title setting up sql connection and sql magic, unique to this lab\n",
        "\n",
        "import getpass\n",
        "import sqlalchemy as sa\n",
        "from sqlalchemy.engine.url import URL\n",
        "from sqlalchemy import orm as sa_orm\n",
        "\n",
        "connect_to_db = URL.create(\n",
        "drivername='redshift+redshift_connector',     \n",
        "host='mbai417-redshift-cluster.crhqxpmozxj1.us-east-1.redshift.amazonaws.com',     \n",
        "port=5439,  \n",
        "database='dev',  \n",
        "username='mbai417',         #username should not be hard coded either\n",
        "password=getpass.getpass()  #please don't put passwords into code\n",
        ")\n",
        "\n",
        "engine = sa.create_engine(connect_to_db)\n",
        "%reload_ext sql\n",
        "%sql $connect_to_db"
      ]
    },
    {
      "cell_type": "markdown",
      "source": [
        "# Determining evening products"
      ],
      "metadata": {
        "id": "6_YzoHvnMWm0"
      }
    },
    {
      "cell_type": "markdown",
      "source": [
        "## Show the number of orders by hour of day"
      ],
      "metadata": {
        "id": "hpFKVG7gNOFI"
      }
    },
    {
      "cell_type": "code",
      "source": [
        "%%sql\n"
      ],
      "metadata": {
        "id": "upzOVAMlNF93"
      },
      "execution_count": null,
      "outputs": []
    },
    {
      "cell_type": "markdown",
      "source": [
        "## Determine the number of products ordered by hour of day\n"
      ],
      "metadata": {
        "id": "ySxWYUYaOYke"
      }
    },
    {
      "cell_type": "code",
      "source": [
        "%%sql\n",
        "\n"
      ],
      "metadata": {
        "id": "m3pbTTLKOXC6"
      },
      "execution_count": null,
      "outputs": []
    },
    {
      "cell_type": "markdown",
      "source": [
        "## Calculate the basket size by hour of day?  (average number of products included in each order by hour of day)"
      ],
      "metadata": {
        "id": "jXL87JPIVsK3"
      }
    },
    {
      "cell_type": "code",
      "source": [
        "%%sql \n",
        "\n",
        "\n"
      ],
      "metadata": {
        "id": "1ADn99oRNM9Z"
      },
      "execution_count": null,
      "outputs": []
    },
    {
      "cell_type": "markdown",
      "source": [
        "## Find the most commonly ordered products"
      ],
      "metadata": {
        "id": "s4zsTkdHY9NK"
      }
    },
    {
      "cell_type": "code",
      "source": [
        "%%sql\n",
        "\n"
      ],
      "metadata": {
        "id": "KWtm-CLxcakT"
      },
      "execution_count": null,
      "outputs": []
    },
    {
      "cell_type": "markdown",
      "source": [
        "## Find the most commonly ordered products in the evening hours (18-23)"
      ],
      "metadata": {
        "id": "9lVZj8TMXkNH"
      }
    },
    {
      "cell_type": "code",
      "source": [
        "%%sql\n"
      ],
      "metadata": {
        "id": "EWknNJaYXrgA"
      },
      "execution_count": null,
      "outputs": []
    },
    {
      "cell_type": "markdown",
      "source": [
        "## Calculate products that have the highest percentage of sales in the evening hours"
      ],
      "metadata": {
        "id": "P0ktbP2hcJ5a"
      }
    },
    {
      "cell_type": "code",
      "source": [
        "%%sql\n"
      ],
      "metadata": {
        "id": "37N0aYVYcqyk"
      },
      "execution_count": null,
      "outputs": []
    },
    {
      "cell_type": "markdown",
      "source": [
        "# Final analysis\n",
        "In the markdown cell below summarize your findings.  Which products have the highest proportion of sales in evening hours?  What additional data would you collect to evaluate the opportunity? How could this data be activated or turned into incremental revenue? Please limit your response to 250 words (+/-)"
      ],
      "metadata": {
        "id": "KSyb2cIyhANl"
      }
    },
    {
      "cell_type": "markdown",
      "source": [
        "Summary here"
      ],
      "metadata": {
        "id": "qUkI2M8hiIVm"
      }
    }
  ]
}