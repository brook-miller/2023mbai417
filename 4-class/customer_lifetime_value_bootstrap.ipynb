{
  "cells": [
    {
      "cell_type": "markdown",
      "metadata": {
        "id": "view-in-github",
        "colab_type": "text"
      },
      "source": [
        "<a href=\"https://colab.research.google.com/github/brook-miller/2023mbai417/blob/main/4-class/customer_lifetime_value_bootstrap.ipynb\" target=\"_parent\"><img src=\"https://colab.research.google.com/assets/colab-badge.svg\" alt=\"Open In Colab\"/></a>"
      ]
    },
    {
      "cell_type": "code",
      "execution_count": 1,
      "metadata": {
        "id": "KddHfGWiOKO6"
      },
      "outputs": [],
      "source": [
        "\n",
        "import pandas as pd\n",
        "import numpy as np\n",
        "import seaborn as sns\n",
        "import matplotlib.pyplot as plt\n",
        "import plotly.express as px\n",
        "from sklearn.utils import resample\n"
      ]
    },
    {
      "cell_type": "code",
      "execution_count": 2,
      "metadata": {
        "id": "Xart9p9qOKO7"
      },
      "outputs": [],
      "source": [
        "df = pd.read_csv(r\"https://raw.githubusercontent.com/brook-miller/2023mbai417/main/4-class/customer-lifetime-value-auto-insurance.csv\")\n",
        "df.columns = [x.lower().strip().replace(\" \", \"_\") for x in df.columns]\n",
        "df[\"customer_lifetime_value\"] = df[\"customer_lifetime_value\"].str.replace(\"$\", \"\", regex=False).str.replace(\",\", \"\", regex=False).astype(float)\n"
      ]
    },
    {
      "cell_type": "code",
      "execution_count": 3,
      "metadata": {
        "colab": {
          "base_uri": "https://localhost:8080/",
          "height": 314
        },
        "id": "_gfL0BYQOKO7",
        "outputId": "d263326d-214e-4dd5-8dcc-56c82d442834"
      },
      "outputs": [
        {
          "output_type": "execute_result",
          "data": {
            "text/plain": [
              "Text(0.5, 1.0, 'Customer Lifetime Value by State')"
            ]
          },
          "metadata": {},
          "execution_count": 3
        },
        {
          "output_type": "display_data",
          "data": {
            "text/plain": [
              "<Figure size 432x288 with 1 Axes>"
            ],
            "image/png": "[encoded data removed]"
          },
          "metadata": {
            "needs_background": "light"
          }
        }
      ],
      "source": [
        "mean_clv = df.groupby(['state']).mean().reset_index()\n",
        "mean_clv = mean_clv.sort_values(by='customer_lifetime_value', ascending=False)\n",
        "\n",
        "colors = ['grey'] * 5\n",
        "colors[0] = 'red'\n",
        "\n",
        "sns.barplot(data=mean_clv, y=\"state\", x=\"customer_lifetime_value\", palette=colors)\n",
        "sns.despine( top = True, right = True)\n",
        "plt.title(\"Customer Lifetime Value by State\")"
      ]
    },
    {
      "cell_type": "markdown",
      "metadata": {
        "id": "ks26w3jfOKO7"
      },
      "source": [
        "### Oregon's Customer Lifetime Value is not Statistically Different from the Average of Other States\n"
      ]
    },
    {
      "cell_type": "code",
      "execution_count": 4,
      "metadata": {
        "colab": {
          "base_uri": "https://localhost:8080/",
          "height": 299
        },
        "id": "a9dafEB2OKO8",
        "outputId": "02f5aebe-1256-4102-8fd1-481631242f65"
      },
      "outputs": [
        {
          "output_type": "execute_result",
          "data": {
            "text/plain": [
              "Text(0.5, 1.0, 'Oregon Histogram')"
            ]
          },
          "metadata": {},
          "execution_count": 4
        },
        {
          "output_type": "display_data",
          "data": {
            "text/plain": [
              "<Figure size 432x288 with 1 Axes>"
            ],
            "image/png": "[encoded data removed]"
          },
          "metadata": {
            "needs_background": "light"
          }
        }
      ],
      "source": [
        "oregon_values = df.loc[df[\"state\"] == \"Oregon\"][\"customer_lifetime_value\"].to_list()\n",
        "sns.histplot(data=oregon_values, binwidth=200)\n",
        "plt.title(\"Oregon Histogram\")"
      ]
    },
    {
      "cell_type": "code",
      "execution_count": 5,
      "metadata": {
        "colab": {
          "base_uri": "https://localhost:8080/",
          "height": 299
        },
        "id": "E8XwsF7zOKO8",
        "outputId": "5ae7f38c-a0ca-4e2a-ea3a-a25aadaefd20"
      },
      "outputs": [
        {
          "output_type": "execute_result",
          "data": {
            "text/plain": [
              "Text(0.5, 1.0, 'Oregon Histogram')"
            ]
          },
          "metadata": {},
          "execution_count": 5
        },
        {
          "output_type": "display_data",
          "data": {
            "text/plain": [
              "<Figure size 432x288 with 1 Axes>"
            ],
            "image/png": "[encoded data removed]"
          },
          "metadata": {
            "needs_background": "light"
          }
        }
      ],
      "source": [
        "oregon_bootstrap_means = []\n",
        "n_iterations = 100000\n",
        "for i in range(n_iterations):\n",
        "    sample = resample(oregon_values, replace=True, n_samples = len(oregon_values))\n",
        "    oregon_bootstrap_means.append(np.mean(sample))\n",
        "\n",
        "sns.histplot(data=oregon_bootstrap_means, binwidth=20)\n",
        "plt.title(\"Oregon Histogram\")"
      ]
    },
    {
      "cell_type": "code",
      "execution_count": 6,
      "metadata": {
        "colab": {
          "base_uri": "https://localhost:8080/",
          "height": 281
        },
        "id": "NqB0jCMmOKO9",
        "outputId": "51499b6c-b146-452a-b0a0-cb636ca02654"
      },
      "outputs": [
        {
          "output_type": "display_data",
          "data": {
            "text/plain": [
              "<Figure size 432x288 with 1 Axes>"
            ],
            "image/png": "[encoded data removed]"
          },
          "metadata": {
            "needs_background": "light"
          }
        }
      ],
      "source": [
        "other_values = df.loc[df[\"state\"] != \"Oregon\"][\"customer_lifetime_value\"].to_list()\n",
        "other_bootstrap_means = []\n",
        "n_iterations = 100000\n",
        "for i in range(n_iterations):\n",
        "    sample = resample(other_values, replace=True, n_samples=len(oregon_values))\n",
        "    other_bootstrap_means.append(np.mean(sample))\n",
        "\n",
        "sns.histplot(data=other_bootstrap_means, binwidth=20)\n",
        "plt.title(\"Other Histogram\");"
      ]
    },
    {
      "cell_type": "code",
      "execution_count": 7,
      "metadata": {
        "id": "KwKsxB8sOKO9"
      },
      "outputs": [],
      "source": [
        "mean_df = pd.DataFrame(other_bootstrap_means)\n",
        "mean_df.columns = [\"other_states\"]\n",
        "\n",
        "mean_df[\"oregon\"] = oregon_bootstrap_means\n",
        "\n",
        "mean_df = pd.melt(mean_df, value_vars=[\"other_states\", \"oregon\"] )"
      ]
    },
    {
      "cell_type": "code",
      "execution_count": 8,
      "metadata": {
        "colab": {
          "base_uri": "https://localhost:8080/",
          "height": 424
        },
        "id": "PSSh3_pqOKO9",
        "outputId": "7dd1ee3c-14f9-4b61-d558-7ea7e6b8695a"
      },
      "outputs": [
        {
          "output_type": "execute_result",
          "data": {
            "text/plain": [
              "            variable        value\n",
              "0       other_states  8084.995356\n",
              "1       other_states  8024.338493\n",
              "2       other_states  8195.397833\n",
              "3       other_states  7893.795150\n",
              "4       other_states  7973.200206\n",
              "...              ...          ...\n",
              "199995        oregon  7938.539732\n",
              "199996        oregon  8289.689886\n",
              "199997        oregon  7946.274510\n",
              "199998        oregon  8200.604747\n",
              "199999        oregon  8050.718266\n",
              "\n",
              "[200000 rows x 2 columns]"
            ],
            "text/html": [
              "\n",
              "  <div id=\"df-1bb5e717-f709-4784-aa38-8200a298829e\">\n",
              "    <div class=\"colab-df-container\">\n",
              "      <div>\n",
              "<style scoped>\n",
              "    .dataframe tbody tr th:only-of-type {\n",
              "        vertical-align: middle;\n",
              "    }\n",
              "\n",
              "    .dataframe tbody tr th {\n",
              "        vertical-align: top;\n",
              "    }\n",
              "\n",
              "    .dataframe thead th {\n",
              "        text-align: right;\n",
              "    }\n",
              "</style>\n",
              "<table border=\"1\" class=\"dataframe\">\n",
              "  <thead>\n",
              "    <tr style=\"text-align: right;\">\n",
              "      <th></th>\n",
              "      <th>variable</th>\n",
              "      <th>value</th>\n",
              "    </tr>\n",
              "  </thead>\n",
              "  <tbody>\n",
              "    <tr>\n",
              "      <th>0</th>\n",
              "      <td>other_states</td>\n",
              "      <td>8084.995356</td>\n",
              "    </tr>\n",
              "    <tr>\n",
              "      <th>1</th>\n",
              "      <td>other_states</td>\n",
              "      <td>8024.338493</td>\n",
              "    </tr>\n",
              "    <tr>\n",
              "      <th>2</th>\n",
              "      <td>other_states</td>\n",
              "      <td>8195.397833</td>\n",
              "    </tr>\n",
              "    <tr>\n",
              "      <th>3</th>\n",
              "      <td>other_states</td>\n",
              "      <td>7893.795150</td>\n",
              "    </tr>\n",
              "    <tr>\n",
              "      <th>4</th>\n",
              "      <td>other_states</td>\n",
              "      <td>7973.200206</td>\n",
              "    </tr>\n",
              "    <tr>\n",
              "      <th>...</th>\n",
              "      <td>...</td>\n",
              "      <td>...</td>\n",
              "    </tr>\n",
              "    <tr>\n",
              "      <th>199995</th>\n",
              "      <td>oregon</td>\n",
              "      <td>7938.539732</td>\n",
              "    </tr>\n",
              "    <tr>\n",
              "      <th>199996</th>\n",
              "      <td>oregon</td>\n",
              "      <td>8289.689886</td>\n",
              "    </tr>\n",
              "    <tr>\n",
              "      <th>199997</th>\n",
              "      <td>oregon</td>\n",
              "      <td>7946.274510</td>\n",
              "    </tr>\n",
              "    <tr>\n",
              "      <th>199998</th>\n",
              "      <td>oregon</td>\n",
              "      <td>8200.604747</td>\n",
              "    </tr>\n",
              "    <tr>\n",
              "      <th>199999</th>\n",
              "      <td>oregon</td>\n",
              "      <td>8050.718266</td>\n",
              "    </tr>\n",
              "  </tbody>\n",
              "</table>\n",
              "<p>200000 rows × 2 columns</p>\n",
              "</div>\n",
              "      <button class=\"colab-df-convert\" onclick=\"convertToInteractive('df-1bb5e717-f709-4784-aa38-8200a298829e')\"\n",
              "              title=\"Convert this dataframe to an interactive table.\"\n",
              "              style=\"display:none;\">\n",
              "        \n",
              "  <svg xmlns=\"http://www.w3.org/2000/svg\" height=\"24px\"viewBox=\"0 0 24 24\"\n",
              "       width=\"24px\">\n",
              "    <path d=\"M0 0h24v24H0V0z\" fill=\"none\"/>\n",
              "    <path d=\"M18.56 5.44l.94 2.06.94-2.06 2.06-.94-2.06-.94-.94-2.06-.94 2.06-2.06.94zm-11 1L8.5 8.5l.94-2.06 2.06-.94-2.06-.94L8.5 2.5l-.94 2.06-2.06.94zm10 10l.94 2.06.94-2.06 2.06-.94-2.06-.94-.94-2.06-.94 2.06-2.06.94z\"/><path d=\"M17.41 7.96l-1.37-1.37c-.4-.4-.92-.59-1.43-.59-.52 0-1.04.2-1.43.59L10.3 9.45l-7.72 7.72c-.78.78-.78 2.05 0 2.83L4 21.41c.39.39.9.59 1.41.59.51 0 1.02-.2 1.41-.59l7.78-7.78 2.81-2.81c.8-.78.8-2.07 0-2.86zM5.41 20L4 18.59l7.72-7.72 1.47 1.35L5.41 20z\"/>\n",
              "  </svg>\n",
              "      </button>\n",
              "      \n",
              "  <style>\n",
              "    .colab-df-container {\n",
              "      display:flex;\n",
              "      flex-wrap:wrap;\n",
              "      gap: 12px;\n",
              "    }\n",
              "\n",
              "    .colab-df-convert {\n",
              "      background-color: #E8F0FE;\n",
              "      border: none;\n",
              "      border-radius: 50%;\n",
              "      cursor: pointer;\n",
              "      display: none;\n",
              "      fill: #1967D2;\n",
              "      height: 32px;\n",
              "      padding: 0 0 0 0;\n",
              "      width: 32px;\n",
              "    }\n",
              "\n",
              "    .colab-df-convert:hover {\n",
              "      background-color: #E2EBFA;\n",
              "      box-shadow: 0px 1px 2px rgba(60, 64, 67, 0.3), 0px 1px 3px 1px rgba(60, 64, 67, 0.15);\n",
              "      fill: #174EA6;\n",
              "    }\n",
              "\n",
              "    [theme=dark] .colab-df-convert {\n",
              "      background-color: #3B4455;\n",
              "      fill: #D2E3FC;\n",
              "    }\n",
              "\n",
              "    [theme=dark] .colab-df-convert:hover {\n",
              "      background-color: #434B5C;\n",
              "      box-shadow: 0px 1px 3px 1px rgba(0, 0, 0, 0.15);\n",
              "      filter: drop-shadow(0px 1px 2px rgba(0, 0, 0, 0.3));\n",
              "      fill: #FFFFFF;\n",
              "    }\n",
              "  </style>\n",
              "\n",
              "      <script>\n",
              "        const buttonEl =\n",
              "          document.querySelector('#df-1bb5e717-f709-4784-aa38-8200a298829e button.colab-df-convert');\n",
              "        buttonEl.style.display =\n",
              "          google.colab.kernel.accessAllowed ? 'block' : 'none';\n",
              "\n",
              "        async function convertToInteractive(key) {\n",
              "          const element = document.querySelector('#df-1bb5e717-f709-4784-aa38-8200a298829e');\n",
              "          const dataTable =\n",
              "            await google.colab.kernel.invokeFunction('convertToInteractive',\n",
              "                                                     [key], {});\n",
              "          if (!dataTable) return;\n",
              "\n",
              "          const docLinkHtml = 'Like what you see? Visit the ' +\n",
              "            '<a target=\"_blank\" href=https://colab.research.google.com/notebooks/data_table.ipynb>data table notebook</a>'\n",
              "            + ' to learn more about interactive tables.';\n",
              "          element.innerHTML = '';\n",
              "          dataTable['output_type'] = 'display_data';\n",
              "          await google.colab.output.renderOutput(dataTable, element);\n",
              "          const docLink = document.createElement('div');\n",
              "          docLink.innerHTML = docLinkHtml;\n",
              "          element.appendChild(docLink);\n",
              "        }\n",
              "      </script>\n",
              "    </div>\n",
              "  </div>\n",
              "  "
            ]
          },
          "metadata": {},
          "execution_count": 8
        }
      ],
      "source": [
        "mean_df"
      ]
    },
    {
      "cell_type": "code",
      "execution_count": 9,
      "metadata": {
        "colab": {
          "base_uri": "https://localhost:8080/",
          "height": 295
        },
        "id": "8OMN4PylOKO-",
        "outputId": "619d5831-8cae-4e34-bc93-4f90dfd3dd52"
      },
      "outputs": [
        {
          "output_type": "display_data",
          "data": {
            "text/plain": [
              "<Figure size 432x288 with 1 Axes>"
            ],
            "image/png": "[encoded data removed]"
          },
          "metadata": {
            "needs_background": "light"
          }
        }
      ],
      "source": [
        "sns.histplot(x='value', data=mean_df, hue='variable', common_norm=False);\n",
        "plt.title(\"Comparing Distributions\");"
      ]
    },
    {
      "cell_type": "code",
      "execution_count": 10,
      "metadata": {
        "colab": {
          "base_uri": "https://localhost:8080/",
          "height": 295
        },
        "id": "09jfE1WfOKO-",
        "outputId": "1122feee-c169-491f-ba70-315a527d5c2f"
      },
      "outputs": [
        {
          "output_type": "display_data",
          "data": {
            "text/plain": [
              "<Figure size 432x288 with 1 Axes>"
            ],
            "image/png": "[encoded data removed]"
          },
          "metadata": {
            "needs_background": "light"
          }
        }
      ],
      "source": [
        "#another way to show the distribution the KDE will be smoother (imagine if we were restricted in the number bootstrap samples so our histogram was bumpier)\n",
        "sns.kdeplot(x='value', data=mean_df, hue='variable')\n",
        "plt.title(\"Kernel Density Function\");"
      ]
    },
    {
      "cell_type": "code",
      "execution_count": 11,
      "metadata": {
        "colab": {
          "base_uri": "https://localhost:8080/"
        },
        "id": "ZjLCpuLXOKO-",
        "outputId": "4788c65d-20e7-46b5-ee5b-eddc982ed732"
      },
      "outputs": [
        {
          "output_type": "stream",
          "name": "stdout",
          "text": [
            "oregon shapiro: statistic=0.6871, p-value=0.0000\n",
            "other shapiro: statistic=0.6931, p-value=0.0000\n",
            "t-test: statistic=0.6368, p-value=0.5243\n"
          ]
        }
      ],
      "source": [
        "from scipy.stats import ttest_ind\n",
        "from scipy.stats import shapiro\n",
        "\n",
        "# I added this as I was curious about the distribution of the data is normal enough for a t-test (it is not)\n",
        "stat, p_value = shapiro(oregon_values)\n",
        "print(f\"oregon shapiro: statistic={stat:.4f}, p-value={p_value:.4f}\")\n",
        "\n",
        "stat, p_value = shapiro(other_values)\n",
        "print(f\"other shapiro: statistic={stat:.4f}, p-value={p_value:.4f}\")\n",
        "\n",
        "# we really shouldn't use t test as the data isn't normal\n",
        "\n",
        "stat, p_value = ttest_ind(oregon_values, other_values)\n",
        "print(f\"t-test: statistic={stat:.4f}, p-value={p_value:.4f}\")"
      ]
    },
    {
      "cell_type": "code",
      "execution_count": 12,
      "metadata": {
        "colab": {
          "base_uri": "https://localhost:8080/"
        },
        "id": "CeTjGxAWOKO_",
        "outputId": "ec9014ca-30bd-4534-919b-d575efb27690"
      },
      "outputs": [
        {
          "output_type": "stream",
          "name": "stdout",
          "text": [
            "Kolmogorov-Smirnov Test: statistic=0.0239, p-value=0.4007\n"
          ]
        }
      ],
      "source": [
        "from scipy.stats import kstest\n",
        "\n",
        "# KS test is fairly widely used\n",
        "# https://en.wikipedia.org/wiki/Kolmogorov%E2%80%93Smirnov_test\n",
        "\n",
        "stat, p_value = kstest(oregon_values, other_values)\n",
        "print(f\"Kolmogorov-Smirnov Test: statistic={stat:.4f}, p-value={p_value:.4f}\")"
      ]
    },
    {
      "cell_type": "markdown",
      "metadata": {
        "id": "-y8OidSTOKO_"
      },
      "source": [
        "Alternatively: https://en.wikipedia.org/wiki/Bootstrapping_(statistics)#Bootstrap_hypothesis_testing (I don't think this is currently implemented in sklearn or scipy)\n"
      ]
    },
    {
      "cell_type": "markdown",
      "source": [
        "### making the small multiples graph (to see the bars you need to open it in colab)"
      ],
      "metadata": {
        "id": "W5S_-P2oxiSq"
      }
    },
    {
      "cell_type": "code",
      "source": [
        "vehicle_class_df = df.groupby([\"vehicle_class\", \"state\"]).count().reset_index()[[\"vehicle_class\", \"state\", \"customer\"]].rename(columns={\"customer\":\"count\"})\n",
        "vehicle_class_df = vehicle_class_df.pivot(index = \"state\", columns=[\"vehicle_class\"])[\"count\"].rename_axis(columns=None).reset_index()\n",
        "cols = vehicle_class_df.columns[1:7].to_list()\n",
        "vehicle_class_df[cols] = vehicle_class_df[cols].div(vehicle_class_df[cols].sum(axis=1), axis=0)\n",
        "vehicle_class_df.style.bar(subset=cols, color='#aaaaaa',align= 'mid', vmin=0, vmax=.6, width=60)"
      ],
      "metadata": {
        "colab": {
          "base_uri": "https://localhost:8080/",
          "height": 206
        },
        "id": "4sYhO9GDyI0d",
        "outputId": "8a0add26-7c14-4f24-9122-7672483f98f6"
      },
      "execution_count": 13,
      "outputs": [
        {
          "output_type": "execute_result",
          "data": {
            "text/plain": [
              "<pandas.io.formats.style.Styler at 0x7f3b2b263eb0>"
            ],
            "text/html": [
              "<style type=\"text/css\">\n",
              "#T_9b91a_row0_col1 {\n",
              "  width: 10em;\n",
              "  height: 80%;\n",
              "  background: linear-gradient(90deg,#aaaaaa 52.2%, transparent 52.2%);\n",
              "}\n",
              "#T_9b91a_row0_col2, #T_9b91a_row1_col2 {\n",
              "  width: 10em;\n",
              "  height: 80%;\n",
              "  background: linear-gradient(90deg,#aaaaaa 1.7%, transparent 1.7%);\n",
              "}\n",
              "#T_9b91a_row0_col3 {\n",
              "  width: 10em;\n",
              "  height: 80%;\n",
              "  background: linear-gradient(90deg,#aaaaaa 1.9%, transparent 1.9%);\n",
              "}\n",
              "#T_9b91a_row0_col4 {\n",
              "  width: 10em;\n",
              "  height: 80%;\n",
              "  background: linear-gradient(90deg,#aaaaaa 18.3%, transparent 18.3%);\n",
              "}\n",
              "#T_9b91a_row0_col5 {\n",
              "  width: 10em;\n",
              "  height: 80%;\n",
              "  background: linear-gradient(90deg,#aaaaaa 5.6%, transparent 5.6%);\n",
              "}\n",
              "#T_9b91a_row0_col6 {\n",
              "  width: 10em;\n",
              "  height: 80%;\n",
              "  background: linear-gradient(90deg,#aaaaaa 20.3%, transparent 20.3%);\n",
              "}\n",
              "#T_9b91a_row1_col1 {\n",
              "  width: 10em;\n",
              "  height: 80%;\n",
              "  background: linear-gradient(90deg,#aaaaaa 50.8%, transparent 50.8%);\n",
              "}\n",
              "#T_9b91a_row1_col3 {\n",
              "  width: 10em;\n",
              "  height: 80%;\n",
              "  background: linear-gradient(90deg,#aaaaaa 2.4%, transparent 2.4%);\n",
              "}\n",
              "#T_9b91a_row1_col4 {\n",
              "  width: 10em;\n",
              "  height: 80%;\n",
              "  background: linear-gradient(90deg,#aaaaaa 19.5%, transparent 19.5%);\n",
              "}\n",
              "#T_9b91a_row1_col5 {\n",
              "  width: 10em;\n",
              "  height: 80%;\n",
              "  background: linear-gradient(90deg,#aaaaaa 5.7%, transparent 5.7%);\n",
              "}\n",
              "#T_9b91a_row1_col6 {\n",
              "  width: 10em;\n",
              "  height: 80%;\n",
              "  background: linear-gradient(90deg,#aaaaaa 20.0%, transparent 20.0%);\n",
              "}\n",
              "#T_9b91a_row2_col1 {\n",
              "  width: 10em;\n",
              "  height: 80%;\n",
              "  background: linear-gradient(90deg,#aaaaaa 48.5%, transparent 48.5%);\n",
              "}\n",
              "#T_9b91a_row2_col2 {\n",
              "  width: 10em;\n",
              "  height: 80%;\n",
              "  background: linear-gradient(90deg,#aaaaaa 1.4%, transparent 1.4%);\n",
              "}\n",
              "#T_9b91a_row2_col3 {\n",
              "  width: 10em;\n",
              "  height: 80%;\n",
              "  background: linear-gradient(90deg,#aaaaaa 2.0%, transparent 2.0%);\n",
              "}\n",
              "#T_9b91a_row2_col4 {\n",
              "  width: 10em;\n",
              "  height: 80%;\n",
              "  background: linear-gradient(90deg,#aaaaaa 19.8%, transparent 19.8%);\n",
              "}\n",
              "#T_9b91a_row2_col5 {\n",
              "  width: 10em;\n",
              "  height: 80%;\n",
              "  background: linear-gradient(90deg,#aaaaaa 6.4%, transparent 6.4%);\n",
              "}\n",
              "#T_9b91a_row2_col6 {\n",
              "  width: 10em;\n",
              "  height: 80%;\n",
              "  background: linear-gradient(90deg,#aaaaaa 21.9%, transparent 21.9%);\n",
              "}\n",
              "#T_9b91a_row3_col1 {\n",
              "  width: 10em;\n",
              "  height: 80%;\n",
              "  background: linear-gradient(90deg,#aaaaaa 49.3%, transparent 49.3%);\n",
              "}\n",
              "#T_9b91a_row3_col2 {\n",
              "  width: 10em;\n",
              "  height: 80%;\n",
              "  background: linear-gradient(90deg,#aaaaaa 1.5%, transparent 1.5%);\n",
              "}\n",
              "#T_9b91a_row3_col3 {\n",
              "  width: 10em;\n",
              "  height: 80%;\n",
              "  background: linear-gradient(90deg,#aaaaaa 2.2%, transparent 2.2%);\n",
              "}\n",
              "#T_9b91a_row3_col4 {\n",
              "  width: 10em;\n",
              "  height: 80%;\n",
              "  background: linear-gradient(90deg,#aaaaaa 20.5%, transparent 20.5%);\n",
              "}\n",
              "#T_9b91a_row3_col5 {\n",
              "  width: 10em;\n",
              "  height: 80%;\n",
              "  background: linear-gradient(90deg,#aaaaaa 4.8%, transparent 4.8%);\n",
              "}\n",
              "#T_9b91a_row3_col6 {\n",
              "  width: 10em;\n",
              "  height: 80%;\n",
              "  background: linear-gradient(90deg,#aaaaaa 21.7%, transparent 21.7%);\n",
              "}\n",
              "#T_9b91a_row4_col1 {\n",
              "  width: 10em;\n",
              "  height: 80%;\n",
              "  background: linear-gradient(90deg,#aaaaaa 52.7%, transparent 52.7%);\n",
              "}\n",
              "#T_9b91a_row4_col2 {\n",
              "  width: 10em;\n",
              "  height: 80%;\n",
              "  background: linear-gradient(90deg,#aaaaaa 2.8%, transparent 2.8%);\n",
              "}\n",
              "#T_9b91a_row4_col3 {\n",
              "  width: 10em;\n",
              "  height: 80%;\n",
              "  background: linear-gradient(90deg,#aaaaaa 1.6%, transparent 1.6%);\n",
              "}\n",
              "#T_9b91a_row4_col4 {\n",
              "  width: 10em;\n",
              "  height: 80%;\n",
              "  background: linear-gradient(90deg,#aaaaaa 19.4%, transparent 19.4%);\n",
              "}\n",
              "#T_9b91a_row4_col5 {\n",
              "  width: 10em;\n",
              "  height: 80%;\n",
              "  background: linear-gradient(90deg,#aaaaaa 3.0%, transparent 3.0%);\n",
              "}\n",
              "#T_9b91a_row4_col6 {\n",
              "  width: 10em;\n",
              "  height: 80%;\n",
              "  background: linear-gradient(90deg,#aaaaaa 20.4%, transparent 20.4%);\n",
              "}\n",
              "</style>\n",
              "<table id=\"T_9b91a_\" class=\"dataframe\">\n",
              "  <thead>\n",
              "    <tr>\n",
              "      <th class=\"blank level0\" >&nbsp;</th>\n",
              "      <th class=\"col_heading level0 col0\" >state</th>\n",
              "      <th class=\"col_heading level0 col1\" >Four-Door Car</th>\n",
              "      <th class=\"col_heading level0 col2\" >Luxury Car</th>\n",
              "      <th class=\"col_heading level0 col3\" >Luxury SUV</th>\n",
              "      <th class=\"col_heading level0 col4\" >SUV</th>\n",
              "      <th class=\"col_heading level0 col5\" >Sports Car</th>\n",
              "      <th class=\"col_heading level0 col6\" >Two-Door Car</th>\n",
              "    </tr>\n",
              "  </thead>\n",
              "  <tbody>\n",
              "    <tr>\n",
              "      <th id=\"T_9b91a_level0_row0\" class=\"row_heading level0 row0\" >0</th>\n",
              "      <td id=\"T_9b91a_row0_col0\" class=\"data row0 col0\" >Arizona</td>\n",
              "      <td id=\"T_9b91a_row0_col1\" class=\"data row0 col1\" >0.522042</td>\n",
              "      <td id=\"T_9b91a_row0_col2\" class=\"data row0 col2\" >0.017015</td>\n",
              "      <td id=\"T_9b91a_row0_col3\" class=\"data row0 col3\" >0.019335</td>\n",
              "      <td id=\"T_9b91a_row0_col4\" class=\"data row0 col4\" >0.183295</td>\n",
              "      <td id=\"T_9b91a_row0_col5\" class=\"data row0 col5\" >0.055684</td>\n",
              "      <td id=\"T_9b91a_row0_col6\" class=\"data row0 col6\" >0.202630</td>\n",
              "    </tr>\n",
              "    <tr>\n",
              "      <th id=\"T_9b91a_level0_row1\" class=\"row_heading level0 row1\" >1</th>\n",
              "      <td id=\"T_9b91a_row1_col0\" class=\"data row1 col0\" >California</td>\n",
              "      <td id=\"T_9b91a_row1_col1\" class=\"data row1 col1\" >0.507833</td>\n",
              "      <td id=\"T_9b91a_row1_col2\" class=\"data row1 col2\" >0.016536</td>\n",
              "      <td id=\"T_9b91a_row1_col3\" class=\"data row1 col3\" >0.023934</td>\n",
              "      <td id=\"T_9b91a_row1_col4\" class=\"data row1 col4\" >0.194952</td>\n",
              "      <td id=\"T_9b91a_row1_col5\" class=\"data row1 col5\" >0.056571</td>\n",
              "      <td id=\"T_9b91a_row1_col6\" class=\"data row1 col6\" >0.200174</td>\n",
              "    </tr>\n",
              "    <tr>\n",
              "      <th id=\"T_9b91a_level0_row2\" class=\"row_heading level0 row2\" >2</th>\n",
              "      <td id=\"T_9b91a_row2_col0\" class=\"data row2 col0\" >Nevada</td>\n",
              "      <td id=\"T_9b91a_row2_col1\" class=\"data row2 col1\" >0.484663</td>\n",
              "      <td id=\"T_9b91a_row2_col2\" class=\"data row2 col2\" >0.013804</td>\n",
              "      <td id=\"T_9b91a_row2_col3\" class=\"data row2 col3\" >0.019939</td>\n",
              "      <td id=\"T_9b91a_row2_col4\" class=\"data row2 col4\" >0.197853</td>\n",
              "      <td id=\"T_9b91a_row2_col5\" class=\"data row2 col5\" >0.064417</td>\n",
              "      <td id=\"T_9b91a_row2_col6\" class=\"data row2 col6\" >0.219325</td>\n",
              "    </tr>\n",
              "    <tr>\n",
              "      <th id=\"T_9b91a_level0_row3\" class=\"row_heading level0 row3\" >3</th>\n",
              "      <td id=\"T_9b91a_row3_col0\" class=\"data row3 col0\" >Oregon</td>\n",
              "      <td id=\"T_9b91a_row3_col1\" class=\"data row3 col1\" >0.492776</td>\n",
              "      <td id=\"T_9b91a_row3_col2\" class=\"data row3 col2\" >0.015480</td>\n",
              "      <td id=\"T_9b91a_row3_col3\" class=\"data row3 col3\" >0.022188</td>\n",
              "      <td id=\"T_9b91a_row3_col4\" class=\"data row3 col4\" >0.204850</td>\n",
              "      <td id=\"T_9b91a_row3_col5\" class=\"data row3 col5\" >0.047988</td>\n",
              "      <td id=\"T_9b91a_row3_col6\" class=\"data row3 col6\" >0.216718</td>\n",
              "    </tr>\n",
              "    <tr>\n",
              "      <th id=\"T_9b91a_level0_row4\" class=\"row_heading level0 row4\" >4</th>\n",
              "      <td id=\"T_9b91a_row4_col0\" class=\"data row4 col0\" >Washington</td>\n",
              "      <td id=\"T_9b91a_row4_col1\" class=\"data row4 col1\" >0.527183</td>\n",
              "      <td id=\"T_9b91a_row4_col2\" class=\"data row4 col2\" >0.028007</td>\n",
              "      <td id=\"T_9b91a_row4_col3\" class=\"data row4 col3\" >0.016474</td>\n",
              "      <td id=\"T_9b91a_row4_col4\" class=\"data row4 col4\" >0.194399</td>\n",
              "      <td id=\"T_9b91a_row4_col5\" class=\"data row4 col5\" >0.029654</td>\n",
              "      <td id=\"T_9b91a_row4_col6\" class=\"data row4 col6\" >0.204283</td>\n",
              "    </tr>\n",
              "  </tbody>\n",
              "</table>\n"
            ]
          },
          "metadata": {},
          "execution_count": 13
        }
      ]
    },
    {
      "cell_type": "markdown",
      "source": [
        "From here, I'd probably use excel or just hand it off to a designer to make it look better."
      ],
      "metadata": {
        "id": "IsmV_LUR8140"
      }
    }
  ],
  "metadata": {
    "kernelspec": {
      "display_name": "Python 3.9.7 ('base')",
      "language": "python",
      "name": "python3"
    },
    "language_info": {
      "codemirror_mode": {
        "name": "ipython",
        "version": 3
      },
      "file_extension": ".py",
      "mimetype": "text/x-python",
      "name": "python",
      "nbconvert_exporter": "python",
      "pygments_lexer": "ipython3",
      "version": "3.9.7"
    },
    "orig_nbformat": 4,
    "vscode": {
      "interpreter": {
        "hash": "957ad25f5770bd51829ce0272be989bfb1589e35ac7ca1cceb89a9a9096ce882"
      }
    },
    "colab": {
      "provenance": [],
      "include_colab_link": true
    }
  },
  "nbformat": 4,
  "nbformat_minor": 0
}