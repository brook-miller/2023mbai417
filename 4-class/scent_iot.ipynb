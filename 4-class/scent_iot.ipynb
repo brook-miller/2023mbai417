{
  "nbformat": 4,
  "nbformat_minor": 0,
  "metadata": {
    "colab": {
      "provenance": [],
      "include_colab_link": true
    },
    "kernelspec": {
      "name": "python3",
      "display_name": "Python 3"
    },
    "language_info": {
      "name": "python"
    }
  },
  "cells": [
    {
      "cell_type": "markdown",
      "metadata": {
        "id": "view-in-github",
        "colab_type": "text"
      },
      "source": [
        "<a href=\"https://colab.research.google.com/github/brook-miller/2023mbai417/blob/main/4-class/scent_iot.ipynb\" target=\"_parent\"><img src=\"https://colab.research.google.com/assets/colab-badge.svg\" alt=\"Open In Colab\"/></a>"
      ]
    },
    {
      "cell_type": "code",
      "execution_count": 29,
      "metadata": {
        "id": "TUcVe5J4rXr2"
      },
      "outputs": [],
      "source": [
        "#@title Standard imports - we'll use in most EDA\n",
        "import numpy as np\n",
        "import pandas as pd\n",
        "import matplotlib.pyplot as plt\n",
        "import plotly.express as px\n",
        "\n",
        "from datetime import datetime, timedelta\n",
        "from dateutil.parser import parse\n",
        "from google.colab import data_table\n",
        "data_table.enable_dataframe_formatter()"
      ]
    },
    {
      "cell_type": "code",
      "source": [
        "#@title Extra imports for this lab\n",
        "\n",
        "!pip install faker\n",
        "from faker import Faker\n",
        "fake = Faker()\n",
        "import random\n",
        "import json\n"
      ],
      "metadata": {
        "id": "xcExHOur7Vw4",
        "colab": {
          "base_uri": "https://localhost:8080/"
        },
        "outputId": "ca6e8310-6c81-4873-c720-dc950a4ee8c9"
      },
      "execution_count": 30,
      "outputs": [
        {
          "output_type": "stream",
          "name": "stdout",
          "text": [
            "Looking in indexes: https://pypi.org/simple, https://us-python.pkg.dev/colab-wheels/public/simple/\n",
            "Collecting faker\n",
            "  Downloading Faker-16.6.1-py3-none-any.whl (1.7 MB)\n",
            "\u001b[?25l     \u001b[90m━━━━━━━━━━━━━━━━━━━━━━━━━━━━━━━━━━━━━━━━\u001b[0m \u001b[32m0.0/1.7 MB\u001b[0m \u001b[31m?\u001b[0m eta \u001b[36m-:--:--\u001b[0m\r\u001b[2K     \u001b[90m━━━━━━━━━━━━━━━━━━━━━━━━━━━━━━━━━━━━━━━━\u001b[0m \u001b[32m1.7/1.7 MB\u001b[0m \u001b[31m56.7 MB/s\u001b[0m eta \u001b[36m0:00:00\u001b[0m\n",
            "\u001b[?25hRequirement already satisfied: python-dateutil>=2.4 in /usr/local/lib/python3.8/dist-packages (from faker) (2.8.2)\n",
            "Requirement already satisfied: six>=1.5 in /usr/local/lib/python3.8/dist-packages (from python-dateutil>=2.4->faker) (1.15.0)\n",
            "Installing collected packages: faker\n",
            "Successfully installed faker-16.6.1\n"
          ]
        }
      ]
    },
    {
      "cell_type": "code",
      "source": [
        "#@title ScentData class models the type of data received from IoT devices\n",
        "class ScentData:\n",
        "    #our sample api / scent data class\n",
        "    def __init__(self, i):\n",
        "        self.latitude = (random.random() * 180) - 90\n",
        "        self.longitude = (random.random() * 360) - 180\n",
        "        self.location = fake.address()\n",
        "        self.company = fake.company()\n",
        "        self.sqi = random.random()\n",
        "        self.air_temp = random.random()\n",
        "        self.fill_level = random.random()\n",
        "        self.id = i"
      ],
      "metadata": {
        "id": "3S9JwW_Dr1qB"
      },
      "execution_count": 31,
      "outputs": []
    },
    {
      "cell_type": "code",
      "source": [
        "#@title Build sample data and save it to 3 file formats\n",
        "items = [ScentData(i) for i in range(0,1000)]\n",
        "\n",
        "df = pd.DataFrame([vars(f) for f in items])\n",
        "df.to_parquet(\"data.parquet\")\n",
        "df.to_csv(\"data.csv\", sep=',', encoding='utf-8')\n",
        "\n",
        "json_string = json.dumps([item.__dict__ for item in items], sort_keys=True, indent=4)\n",
        "\n",
        "with open('data.json', 'w') as file:\n",
        "    file.write(json_string)"
      ],
      "metadata": {
        "id": "UCgeiGAvuO8V"
      },
      "execution_count": 32,
      "outputs": []
    },
    {
      "cell_type": "code",
      "source": [
        "#@title Check file sizes\n",
        "\n",
        "import os\n",
        "\n",
        "files = [\"data.json\", \"data.csv\", \"data.parquet\"]\n",
        "\n",
        "for file in files:\n",
        "  file_size = os.path.getsize(file)\n",
        "  print(f\"{file} size is : {file_size} bytes\")"
      ],
      "metadata": {
        "id": "5535uyhP0KCC",
        "colab": {
          "base_uri": "https://localhost:8080/"
        },
        "outputId": "7f32c511-bdc7-4efa-ad50-bb8187343413"
      },
      "execution_count": 33,
      "outputs": [
        {
          "output_type": "stream",
          "name": "stdout",
          "text": [
            "data.json size is : 337495 bytes\n",
            "data.csv size is : 168167 bytes\n",
            "data.parquet size is : 105579 bytes\n"
          ]
        }
      ]
    },
    {
      "cell_type": "code",
      "source": [
        "#@title these assumptions are all given no need to change them\n",
        "device_cost = 200\n",
        "cellular_per_device_month = 0.65\n",
        "cellular_month_per_MB = 0.35\n",
        "kafka_per_hour = 0.75\n",
        "kafka_per_GB = 0.20\n",
        "s3_per_GB = 0.023"
      ],
      "metadata": {
        "id": "p2K8TYXWy9A5"
      },
      "execution_count": 34,
      "outputs": []
    },
    {
      "cell_type": "code",
      "source": [
        "#@title these are variables, determine the size in byte by dividing the data.json size by 1000\n",
        "\n",
        "bytes_per_json = 1030 #@param {type:\"slider\", min:1, max:10000, step:1}\n",
        "\n",
        "num_devices = 5020 #@param {type:\"slider\", min:1, max:10000, step:1}\n",
        "\n",
        "num_readings = 46 #@param {type:\"slider\", min:1, max:1440, step:1}"
      ],
      "metadata": {
        "id": "sy0ArZn4cCBM"
      },
      "execution_count": 37,
      "outputs": []
    },
    {
      "cell_type": "code",
      "source": [
        "#@title calculating fixed and monthly costs\n",
        "fixed = 200 * num_devices\n",
        "monthly_bytes = num_readings * 30 * bytes_per_json * num_devices\n",
        "bytes_per_MB = 2**20\n",
        "monthlyMB = monthly_bytes / bytes_per_MB\n",
        "month = 1\n",
        "monthly = (\n",
        "          cellular_per_device_month * num_devices + \n",
        "          cellular_month_per_MB * .35 * monthlyMB +\n",
        "          kafka_per_hour * 720 +\n",
        "          kafka_per_GB * monthlyMB / 2**10 + #1024GB per MB\n",
        "          s3_per_GB * month * monthlyMB / 2**10\n",
        ")\n",
        "monthly"
      ],
      "metadata": {
        "colab": {
          "base_uri": "https://localhost:8080/"
        },
        "id": "_LBga6LC0n5I",
        "outputId": "1dbce5ea-2f93-4889-cc85-8d51c9ce0710"
      },
      "execution_count": 38,
      "outputs": [
        {
          "output_type": "execute_result",
          "data": {
            "text/plain": [
              "4638.079037364572"
            ]
          },
          "metadata": {},
          "execution_count": 38
        }
      ]
    },
    {
      "cell_type": "code",
      "source": [
        "#@title the above monthly estimate didn't take into account that the s3 data would be in compressed parquet format. Can you add that in?\n",
        "\n"
      ],
      "metadata": {
        "id": "cljyAXAM5lvW"
      },
      "execution_count": null,
      "outputs": []
    },
    {
      "cell_type": "code",
      "source": [
        "#@title now turn your monthly cost builder into a function and build data for each of 36 months (month goes from 1 to 36)\n"
      ],
      "metadata": {
        "id": "J0PbCSwO6yaU"
      },
      "execution_count": null,
      "outputs": []
    }
  ]
}