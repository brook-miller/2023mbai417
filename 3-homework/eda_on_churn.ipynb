{
  "nbformat": 4,
  "nbformat_minor": 0,
  "metadata": {
    "colab": {
      "provenance": [],
      "authorship_tag": "ABX9TyMwNa5anjNDwEWG7kEN3XGr",
      "include_colab_link": true
    },
    "kernelspec": {
      "name": "python3",
      "display_name": "Python 3"
    },
    "language_info": {
      "name": "python"
    }
  },
  "cells": [
    {
      "cell_type": "markdown",
      "metadata": {
        "id": "view-in-github",
        "colab_type": "text"
      },
      "source": [
        "<a href=\"https://colab.research.google.com/github/brook-miller/2023mbai417/blob/main/3-homework/eda_on_churn.ipynb\" target=\"_parent\"><img src=\"https://colab.research.google.com/assets/colab-badge.svg\" alt=\"Open In Colab\"/></a>"
      ]
    },
    {
      "cell_type": "markdown",
      "source": [
        "\n",
        "Some questions to help you get started:\n",
        "* How are Customer demographics (age, gender, ...) distributed?\n",
        "* How does the Income category distribution vary based on education level\n",
        "* How is Credit limit changing based on gender and marital status\n",
        "* What type of cards people are using based on their age groups\n",
        "* What could be the cause of attrition(customers dropping off the credit card service)\n",
        "\n",
        "\n"
      ],
      "metadata": {
        "id": "Xcpd02Xij2eW"
      }
    },
    {
      "cell_type": "code",
      "execution_count": null,
      "metadata": {
        "id": "k9LmhOEKi6YR"
      },
      "outputs": [],
      "source": [
        "#@title Standard imports - we'll use in most EDA\n",
        "import numpy as np\n",
        "import pandas as pd\n",
        "import matplotlib.pyplot as plt\n",
        "import plotly.express as px\n",
        "\n",
        "from datetime import datetime, timedelta\n",
        "from dateutil.parser import parse\n",
        "from google.colab import data_table\n",
        "data_table.enable_dataframe_formatter()\n"
      ]
    }
  ]
}