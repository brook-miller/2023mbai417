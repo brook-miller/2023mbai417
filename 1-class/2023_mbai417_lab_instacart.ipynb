{
  "cells": [
    {
      "cell_type": "markdown",
      "metadata": {
        "id": "view-in-github",
        "colab_type": "text"
      },
      "source": [
        "<a href=\"https://colab.research.google.com/github/brook-miller/2023mbai417/blob/main/1-class/2023_mbai417_lab_instacart.ipynb\" target=\"_parent\"><img src=\"https://colab.research.google.com/assets/colab-badge.svg\" alt=\"Open In Colab\"/></a>"
      ]
    },
    {
      "cell_type": "markdown",
      "source": [
        "# Class 1. Instacart Lab Notes"
      ],
      "metadata": {
        "id": "j8zj4Rm3Y23u"
      }
    },
    {
      "cell_type": "markdown",
      "source": [
        "\n",
        "Use the limit clause in SQL statements to avoid downloading millions of rows to your notebook environment \n",
        "\n"
      ],
      "metadata": {
        "id": "HAy8MbGNZDwW"
      }
    },
    {
      "cell_type": "markdown",
      "metadata": {
        "id": "_S2PpUl0c9zw"
      },
      "source": [
        "# Setting up the environment"
      ]
    },
    {
      "cell_type": "code",
      "source": [
        "#@title installs for sqlalchemy and sqlmagic\n",
        "!pip install sqlalchemy-redshift --quiet\n",
        "!pip install redshift_connector --quiet\n",
        "!pip install ipython-sql --quiet"
      ],
      "metadata": {
        "id": "nqIJ3Za2_qfp",
        "colab": {
          "base_uri": "https://localhost:8080/"
        },
        "outputId": "ca9742f7-13ea-4d0d-ac40-a9952c8f124a"
      },
      "execution_count": 1,
      "outputs": [
        {
          "output_type": "stream",
          "name": "stdout",
          "text": [
            "\u001b[2K     \u001b[90m━━━━━━━━━━━━━━━━━━━━━━━━━━━━━━━━━━━━━━━\u001b[0m \u001b[32m112.1/112.1 KB\u001b[0m \u001b[31m4.0 MB/s\u001b[0m eta \u001b[36m0:00:00\u001b[0m\n",
            "\u001b[2K     \u001b[90m━━━━━━━━━━━━━━━━━━━━━━━━━━━━━━━━━━━━━━━━\u001b[0m \u001b[32m10.3/10.3 MB\u001b[0m \u001b[31m66.1 MB/s\u001b[0m eta \u001b[36m0:00:00\u001b[0m\n",
            "\u001b[2K     \u001b[90m━━━━━━━━━━━━━━━━━━━━━━━━━━━━━━━━━━━━━━\u001b[0m \u001b[32m128.2/128.2 KB\u001b[0m \u001b[31m12.7 MB/s\u001b[0m eta \u001b[36m0:00:00\u001b[0m\n",
            "\u001b[2K     \u001b[90m━━━━━━━━━━━━━━━━━━━━━━━━━━━━━━━━━━━━━━\u001b[0m \u001b[32m132.7/132.7 KB\u001b[0m \u001b[31m13.8 MB/s\u001b[0m eta \u001b[36m0:00:00\u001b[0m\n",
            "\u001b[2K     \u001b[90m━━━━━━━━━━━━━━━━━━━━━━━━━━━━━━━━━━━━━━━━\u001b[0m \u001b[32m79.6/79.6 KB\u001b[0m \u001b[31m8.8 MB/s\u001b[0m eta \u001b[36m0:00:00\u001b[0m\n",
            "\u001b[2K     \u001b[90m━━━━━━━━━━━━━━━━━━━━━━━━━━━━━━━━━━━━━━\u001b[0m \u001b[32m140.6/140.6 KB\u001b[0m \u001b[31m15.3 MB/s\u001b[0m eta \u001b[36m0:00:00\u001b[0m\n",
            "\u001b[2K     \u001b[90m━━━━━━━━━━━━━━━━━━━━━━━━━━━━━━━━━━━━━━\u001b[0m \u001b[32m105.0/105.0 KB\u001b[0m \u001b[31m10.7 MB/s\u001b[0m eta \u001b[36m0:00:00\u001b[0m\n",
            "\u001b[2K     \u001b[90m━━━━━━━━━━━━━━━━━━━━━━━━━━━━━━━━━━━━━━━━\u001b[0m \u001b[32m1.6/1.6 MB\u001b[0m \u001b[31m23.3 MB/s\u001b[0m eta \u001b[36m0:00:00\u001b[0m\n",
            "\u001b[?25h"
          ]
        }
      ]
    },
    {
      "cell_type": "code",
      "execution_count": 2,
      "metadata": {
        "id": "_jEoXXUi_a_V"
      },
      "outputs": [],
      "source": [
        "#@title standard imports - we'll use in most EDA\n",
        "import numpy as np\n",
        "import pandas as pd\n",
        "import matplotlib.pyplot as plt\n",
        "import plotly.express as px\n",
        "\n",
        "from datetime import datetime, timedelta\n",
        "from dateutil.parser import parse\n",
        "from google.colab import data_table\n",
        "data_table.enable_dataframe_formatter()"
      ]
    },
    {
      "cell_type": "code",
      "execution_count": 4,
      "metadata": {
        "colab": {
          "base_uri": "https://localhost:8080/",
          "height": 53
        },
        "id": "mFZDaICS_a_W",
        "outputId": "b7934976-040e-430b-b6c8-3df6be3301a8"
      },
      "outputs": [
        {
          "name": "stdout",
          "output_type": "stream",
          "text": [
            "··········\n"
          ]
        },
        {
          "output_type": "execute_result",
          "data": {
            "text/plain": [
              "'Connected: mbai417@dev'"
            ],
            "application/vnd.google.colaboratory.intrinsic+json": {
              "type": "string"
            }
          },
          "metadata": {},
          "execution_count": 4
        }
      ],
      "source": [
        "#@title setting up sql connection and sql magic, unique to this lab\n",
        "\n",
        "import getpass\n",
        "import sqlalchemy as sa\n",
        "from sqlalchemy.engine.url import URL\n",
        "from sqlalchemy import orm as sa_orm\n",
        "\n",
        "connect_to_db = URL.create(\n",
        "drivername='redshift+redshift_connector',     \n",
        "host='mbai417-redshift-cluster.crhqxpmozxj1.us-east-1.redshift.amazonaws.com',     \n",
        "port=5439,  \n",
        "database='dev',  \n",
        "username='mbai417',         #username should not be hard coded either\n",
        "password=getpass.getpass()  #please don't put passwords into code\n",
        ")\n",
        "\n",
        "engine = sa.create_engine(connect_to_db)\n",
        "%reload_ext sql\n",
        "%sql $connect_to_db"
      ]
    },
    {
      "cell_type": "markdown",
      "source": [
        "#Lab questions to answer"
      ],
      "metadata": {
        "id": "VTN8E9b8dWg0"
      }
    },
    {
      "cell_type": "markdown",
      "source": [
        "## Create a query to select all of the aisles\n"
      ],
      "metadata": {
        "id": "sxiWSbq3e3Ng"
      }
    },
    {
      "cell_type": "code",
      "source": [
        "%%sql\n"
      ],
      "metadata": {
        "id": "HLO7vzeszNID"
      },
      "execution_count": null,
      "outputs": []
    },
    {
      "cell_type": "markdown",
      "source": [
        "## Which aisle has the most products?\n"
      ],
      "metadata": {
        "id": "IfAPtTVbzPI1"
      }
    },
    {
      "cell_type": "code",
      "source": [
        "%%sql"
      ],
      "metadata": {
        "id": "PiIavqlqzWL3"
      },
      "execution_count": null,
      "outputs": []
    },
    {
      "cell_type": "markdown",
      "source": [
        "## Which aisle has the most products ordered?"
      ],
      "metadata": {
        "id": "4N9jwRmQdgrk"
      }
    },
    {
      "cell_type": "code",
      "source": [
        "%%sql\n"
      ],
      "metadata": {
        "id": "KhMn5ijndp2V"
      },
      "execution_count": null,
      "outputs": []
    },
    {
      "cell_type": "markdown",
      "source": [
        "## What are the most frequently ordered products with names that contain \"Diapers\"?\n",
        "\n"
      ],
      "metadata": {
        "id": "fxBPaZM4eMMR"
      }
    },
    {
      "cell_type": "code",
      "source": [
        "%%sql"
      ],
      "metadata": {
        "id": "Df5oFDF0eZHV"
      },
      "execution_count": null,
      "outputs": []
    },
    {
      "cell_type": "markdown",
      "source": [
        "## Create a query to determine which products are most often purchased in orders with diapers. (not including Diapers products)"
      ],
      "metadata": {
        "id": "7ar09GMleb2g"
      }
    },
    {
      "cell_type": "code",
      "source": [
        "%%sql"
      ],
      "metadata": {
        "id": "wsA3ZUwNepNv"
      },
      "execution_count": null,
      "outputs": []
    }
  ],
  "metadata": {
    "language_info": {
      "name": "python"
    },
    "orig_nbformat": 4,
    "colab": {
      "provenance": [],
      "include_colab_link": true
    },
    "kernelspec": {
      "name": "python3",
      "display_name": "Python 3"
    }
  },
  "nbformat": 4,
  "nbformat_minor": 0
}