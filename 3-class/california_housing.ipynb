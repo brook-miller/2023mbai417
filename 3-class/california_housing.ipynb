{
  "nbformat": 4,
  "nbformat_minor": 0,
  "metadata": {
    "colab": {
      "name": "california-housing.ipynb",
      "provenance": [],
      "authorship_tag": "ABX9TyMPUoIMWTPi4dXfbv4u2kng",
      "include_colab_link": true
    },
    "kernelspec": {
      "name": "python3",
      "display_name": "Python 3"
    },
    "language_info": {
      "name": "python"
    }
  },
  "cells": [
    {
      "cell_type": "markdown",
      "metadata": {
        "id": "view-in-github",
        "colab_type": "text"
      },
      "source": [
        "<a href=\"https://colab.research.google.com/github/brook-miller/2023mbai417/blob/main/3-class/california_housing.ipynb\" target=\"_parent\"><img src=\"https://colab.research.google.com/assets/colab-badge.svg\" alt=\"Open In Colab\"/></a>"
      ]
    },
    {
      "cell_type": "code",
      "source": [
        "#@title Standard imports - we'll use in most EDA\n",
        "import numpy as np\n",
        "import pandas as pd\n",
        "import matplotlib.pyplot as plt\n",
        "import plotly.express as px\n",
        "import plotly.graph_objs as go\n",
        "\n",
        "from datetime import datetime, timedelta\n",
        "from dateutil.parser import parse\n",
        "from google.colab import data_table\n",
        "data_table.enable_dataframe_formatter()"
      ],
      "metadata": {
        "id": "Z7X-Yb_FehYb"
      },
      "execution_count": null,
      "outputs": []
    },
    {
      "cell_type": "code",
      "execution_count": null,
      "metadata": {
        "id": "2A2zAcNldo_7"
      },
      "outputs": [],
      "source": [
        "#@title pulling in the California housing dataset\n",
        "#@markdown description here: https://developers.google.com/machine-learning/crash-course/california-housing-data-description\n",
        "from sklearn.datasets import fetch_california_housing\n",
        "\n",
        "df = fetch_california_housing(as_frame=True).frame\n",
        "df"
      ]
    },
    {
      "cell_type": "code",
      "source": [
        "#@title use .info() to confirm variables are as expected\n",
        "df.info()"
      ],
      "metadata": {
        "id": "dVp9N_BXe47G"
      },
      "execution_count": null,
      "outputs": []
    },
    {
      "cell_type": "code",
      "source": [
        "#@title histogram shows the distribution of a continuous variable\n",
        "fig = px.histogram(df, x=\"MedInc\")\n",
        "fig.show()"
      ],
      "metadata": {
        "id": "A2lsN9fce0Pw"
      },
      "execution_count": null,
      "outputs": []
    },
    {
      "cell_type": "code",
      "source": [
        "#@title Data is from 1990 census fairly deep recession in 87, average new block construction peaked in 1954\n",
        "fig = px.histogram(df, x=\"HouseAge\")\n",
        "fig.show()"
      ],
      "metadata": {
        "id": "FDCUxv1gfK2c"
      },
      "execution_count": null,
      "outputs": []
    },
    {
      "cell_type": "code",
      "source": [
        "#@title Scatter matrix lets us analyze for relationships that might not be obvious\n",
        "fig = px.scatter_matrix(df, height=1200)\n",
        "fig.show()"
      ],
      "metadata": {
        "id": "E03loQ0Sf_M-"
      },
      "execution_count": null,
      "outputs": []
    },
    {
      "cell_type": "code",
      "source": [
        "#@title The correlation matrix shows AveRooms, MedInc, MedHouseValue to be positively correlated\n",
        "corr = df.corr()\n",
        "fig = go.Figure(data=go.Heatmap(z=corr.values,\n",
        "                  x=corr.index.values,\n",
        "                  y=corr.columns.values))\n",
        "fig.show()"
      ],
      "metadata": {
        "id": "x4Up_xiug8VC"
      },
      "execution_count": null,
      "outputs": []
    },
    {
      "cell_type": "code",
      "source": [
        "#@title Using the cut function to create our own bins\n",
        "bins = [ 0, 10, 20, 30, 40, 50 ]\n",
        "labels = ['<10', '10-20', '20-30','30-40', '40-50']\n",
        "df['age_bins'] = pd.cut(df['HouseAge'] , bins=bins, labels=labels, include_lowest=True)\n",
        "print(df.age_bins.value_counts())\n",
        "fig = px.box(df, x=\"age_bins\", y=\"MedHouseVal\", points=\"all\")\n",
        "fig.show()"
      ],
      "metadata": {
        "id": "xFeoi5W-n_EP"
      },
      "execution_count": null,
      "outputs": []
    },
    {
      "cell_type": "code",
      "source": [
        "#@title Average incomes are lognormal distributed but why are they peaked\n",
        "df[\"log_income\"] = np.log10(df[\"MedInc\"])\n",
        "fig = px.histogram(df, x=\"log_income\")\n",
        "fig.show()"
      ],
      "metadata": {
        "id": "4sTRuttEsY1a"
      },
      "execution_count": null,
      "outputs": []
    },
    {
      "cell_type": "code",
      "source": [
        "#@title This should look like California\n",
        "fig = px.scatter(df, x=\"Longitude\", y=\"Latitude\", height=600, width=600)\n",
        "fig.show()"
      ],
      "metadata": {
        "id": "BG271McVwi-Z"
      },
      "execution_count": null,
      "outputs": []
    },
    {
      "cell_type": "code",
      "source": [
        "#@title Using color to see the relationship between 3 variables\n",
        "fig = px.scatter(df, x=\"Population\", y=\"MedHouseVal\", color = \"MedInc\", height=600, width=600)\n",
        "fig.show()"
      ],
      "metadata": {
        "id": "swaXMAIqLrGZ"
      },
      "execution_count": null,
      "outputs": []
    }
  ]
}